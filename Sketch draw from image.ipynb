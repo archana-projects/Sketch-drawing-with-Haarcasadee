{
 "cells": [
  {
   "cell_type": "markdown",
   "metadata": {},
   "source": [
    "## Capture and mouse draw rectangle from webcam and sketch process it on a live feed"
   ]
  },
  {
   "cell_type": "code",
   "execution_count": 1,
   "metadata": {},
   "outputs": [],
   "source": [
    "import cv2\n",
    "from matplotlib import pyplot as plt\n",
    "import numpy as np\n"
   ]
  },
  {
   "cell_type": "code",
   "execution_count": 2,
   "metadata": {},
   "outputs": [],
   "source": [
    "def sketch_transform(image):\n",
    "    image_grayscale = cv2.cvtColor(image, cv2.COLOR_BGR2GRAY)\n",
    "    image_grayscale_blurred = cv2.GaussianBlur(image_grayscale, (7,7), 0)\n",
    "    image_canny = cv2.Canny(image_grayscale_blurred, 10, 80)\n",
    "    _, mask = image_canny_inverted = cv2.threshold(image_canny, 30, 255, cv2.THRESH_BINARY_INV)\n",
    "    return mask"
   ]
  },
  {
   "cell_type": "code",
   "execution_count": null,
   "metadata": {},
   "outputs": [
    {
     "ename": "error",
     "evalue": "OpenCV(4.11.0) D:\\a\\opencv-python\\opencv-python\\opencv\\modules\\imgproc\\src\\color.cpp:199: error: (-215:Assertion failed) !_src.empty() in function 'cv::cvtColor'\n",
     "output_type": "error",
     "traceback": [
      "\u001b[1;31m---------------------------------------------------------------------------\u001b[0m",
      "\u001b[1;31merror\u001b[0m                                     Traceback (most recent call last)",
      "Cell \u001b[1;32mIn[3], line 17\u001b[0m\n\u001b[0;32m     14\u001b[0m rect_img \u001b[38;5;241m=\u001b[39m image_frame[\u001b[38;5;28mint\u001b[39m(r[\u001b[38;5;241m1\u001b[39m]):\u001b[38;5;28mint\u001b[39m(r[\u001b[38;5;241m1\u001b[39m]\u001b[38;5;241m+\u001b[39mr[\u001b[38;5;241m3\u001b[39m]), \u001b[38;5;28mint\u001b[39m(r[\u001b[38;5;241m0\u001b[39m]):\u001b[38;5;28mint\u001b[39m(r[\u001b[38;5;241m0\u001b[39m]\u001b[38;5;241m+\u001b[39mr[\u001b[38;5;241m2\u001b[39m])]\n\u001b[0;32m     16\u001b[0m sketcher_rect \u001b[38;5;241m=\u001b[39m rect_img\n\u001b[1;32m---> 17\u001b[0m sketcher_rect \u001b[38;5;241m=\u001b[39m \u001b[43msketch_transform\u001b[49m\u001b[43m(\u001b[49m\u001b[43msketcher_rect\u001b[49m\u001b[43m)\u001b[49m\n\u001b[0;32m     19\u001b[0m \u001b[38;5;66;03m#Conversion for 3 channels to put back on original image (streaming)\u001b[39;00m\n\u001b[0;32m     20\u001b[0m sketcher_rect_rgb \u001b[38;5;241m=\u001b[39m cv2\u001b[38;5;241m.\u001b[39mcvtColor(sketcher_rect, cv2\u001b[38;5;241m.\u001b[39mCOLOR_GRAY2RGB)\n",
      "Cell \u001b[1;32mIn[2], line 2\u001b[0m, in \u001b[0;36msketch_transform\u001b[1;34m(image)\u001b[0m\n\u001b[0;32m      1\u001b[0m \u001b[38;5;28;01mdef\u001b[39;00m \u001b[38;5;21msketch_transform\u001b[39m(image):\n\u001b[1;32m----> 2\u001b[0m     image_grayscale \u001b[38;5;241m=\u001b[39m \u001b[43mcv2\u001b[49m\u001b[38;5;241;43m.\u001b[39;49m\u001b[43mcvtColor\u001b[49m\u001b[43m(\u001b[49m\u001b[43mimage\u001b[49m\u001b[43m,\u001b[49m\u001b[43m \u001b[49m\u001b[43mcv2\u001b[49m\u001b[38;5;241;43m.\u001b[39;49m\u001b[43mCOLOR_BGR2GRAY\u001b[49m\u001b[43m)\u001b[49m\n\u001b[0;32m      3\u001b[0m     image_grayscale_blurred \u001b[38;5;241m=\u001b[39m cv2\u001b[38;5;241m.\u001b[39mGaussianBlur(image_grayscale, (\u001b[38;5;241m7\u001b[39m,\u001b[38;5;241m7\u001b[39m), \u001b[38;5;241m0\u001b[39m)\n\u001b[0;32m      4\u001b[0m     image_canny \u001b[38;5;241m=\u001b[39m cv2\u001b[38;5;241m.\u001b[39mCanny(image_grayscale_blurred, \u001b[38;5;241m10\u001b[39m, \u001b[38;5;241m80\u001b[39m)\n",
      "\u001b[1;31merror\u001b[0m: OpenCV(4.11.0) D:\\a\\opencv-python\\opencv-python\\opencv\\modules\\imgproc\\src\\color.cpp:199: error: (-215:Assertion failed) !_src.empty() in function 'cv::cvtColor'\n"
     ]
    },
    {
     "ename": "",
     "evalue": "",
     "output_type": "error",
     "traceback": [
      "\u001b[1;31mThe Kernel crashed while executing code in the current cell or a previous cell. \n",
      "\u001b[1;31mPlease review the code in the cell(s) to identify a possible cause of the failure. \n",
      "\u001b[1;31mClick <a href='https://aka.ms/vscodeJupyterKernelCrash'>here</a> for more info. \n",
      "\u001b[1;31mView Jupyter <a href='command:jupyter.viewOutput'>log</a> for further details."
     ]
    }
   ],
   "source": [
    "cam_capture = cv2.VideoCapture(0)\n",
    "cv2.destroyAllWindows()\n",
    "\n",
    "while True:\n",
    "    _, im0 = cam_capture.read()\n",
    "    showCrosshair = False\n",
    "    fromCenter = False\n",
    "    r = cv2.selectROI(r\"C:\\Users\\kumar\\.vscode\\FULLSTACK DATASCIENCE\\OPEN CV(COMPUTER VISION)\\HAARCASADE OPENCV\\girl images.jpeg\", im0, fromCenter, showCrosshair)\n",
    "    break\n",
    "    \n",
    "while True:   \n",
    "    _, image_frame = cam_capture.read()\n",
    "    \n",
    "    rect_img = image_frame[int(r[1]):int(r[1]+r[3]), int(r[0]):int(r[0]+r[2])]\n",
    "    \n",
    "    sketcher_rect = rect_img\n",
    "    sketcher_rect = sketch_transform(sketcher_rect)\n",
    "    \n",
    "    #Conversion for 3 channels to put back on original image (streaming)\n",
    "    sketcher_rect_rgb = cv2.cvtColor(sketcher_rect, cv2.COLOR_GRAY2RGB)\n",
    "    \n",
    "    #Replacing the sketched image on Region of Interest\n",
    "    image_frame[int(r[1]):int(r[1]+r[3]), int(r[0]):int(r[0]+r[2])] = sketcher_rect_rgb\n",
    "    \n",
    "    cv2.imshow(\"Sketcher ROI\", image_frame)\n",
    "    \n",
    "    if cv2.waitKey(1) & 0xFF == ord('q'):\n",
    "        break\n",
    "        \n",
    "cam_capture.release()\n",
    "cv2.destroyAllWindows()"
   ]
  }
 ],
 "metadata": {
  "kernelspec": {
   "display_name": "base",
   "language": "python",
   "name": "python3"
  },
  "language_info": {
   "codemirror_mode": {
    "name": "ipython",
    "version": 3
   },
   "file_extension": ".py",
   "mimetype": "text/x-python",
   "name": "python",
   "nbconvert_exporter": "python",
   "pygments_lexer": "ipython3",
   "version": "3.12.4"
  }
 },
 "nbformat": 4,
 "nbformat_minor": 2
}
